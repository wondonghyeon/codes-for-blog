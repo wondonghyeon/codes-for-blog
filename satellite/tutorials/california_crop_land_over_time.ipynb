{
 "cells": [
  {
   "cell_type": "markdown",
   "metadata": {},
   "source": [
    "# Visualzing How California Crop Land Usage Changes Over Time\n",
    "This notebook is to visualize how the crop land usage have changed over time in California. This is my very first time using the Google Earth Engine API, so I might be doing something stupid. "
   ]
  },
  {
   "cell_type": "code",
   "execution_count": 1,
   "metadata": {},
   "outputs": [],
   "source": [
    "# Initialize Earth Engine\n",
    "from satellite.initialize import initialize_ee\n",
    "\n",
    "initialize_ee()"
   ]
  },
  {
   "cell_type": "code",
   "execution_count": 2,
   "metadata": {},
   "outputs": [],
   "source": [
    "import datetime\n",
    "import ee\n",
    "\n",
    "# Define the time window for the visualization.\n",
    "end_date = datetime.datetime.now()\n",
    "time_window_year = 15\n",
    "start_date = end_date - datetime.timedelta(days=time_window_year*365)\n",
    "\n",
    "# Get ImageCollection dataset. \n",
    "date_filter = ee.Filter.date(start_date.strftime(\"%Y-%m-%d\"), end_date.strftime(\"%Y-%m-%d\"))\n",
    "dataset = ee.ImageCollection(\"USDA/NASS/CDL\").filter(date_filter).select('cropland')\n",
    "dataset_list = ee.ImageCollection.toList(dataset, dataset.size())"
   ]
  },
  {
   "cell_type": "code",
   "execution_count": 3,
   "metadata": {},
   "outputs": [],
   "source": [
    "# Iterate through the dataset.\n",
    "for i in range(dataset_list.size().getInfo()):\n",
    "    image = ee.Image(dataset_list.get(i))"
   ]
  },
  {
   "cell_type": "code",
   "execution_count": 4,
   "metadata": {},
   "outputs": [],
   "source": [
    "gdrive_folder_name = \"nass_crop_pand_iamges\"\n",
    "task = ee.batch.Export.image.toDrive(\n",
    "    image=image,\n",
    "    description='nass_cdl',\n",
    "    folder=gdrive_folder_name,\n",
    "    fileNamePrefix='nass_cdl',\n",
    "    region=[[-124.848974, 24.396308], [-66.885444, 49.384358]],\n",
    "    scale=100,\n",
    "    maxPixels=1e13\n",
    ")"
   ]
  },
  {
   "cell_type": "code",
   "execution_count": 5,
   "metadata": {},
   "outputs": [],
   "source": [
    "task.start()"
   ]
  },
  {
   "cell_type": "code",
   "execution_count": 7,
   "metadata": {},
   "outputs": [
    {
     "name": "stdout",
     "output_type": "stream",
     "text": [
      "Running...\n",
      "Running...\n",
      "Running...\n",
      "Running...\n",
      "Running...\n",
      "Running...\n",
      "Running...\n",
      "Running...\n",
      "Running...\n",
      "Running...\n",
      "Running...\n",
      "Running...\n",
      "Running...\n",
      "Running...\n",
      "Running...\n",
      "Running...\n",
      "Running...\n",
      "Running...\n",
      "Running...\n",
      "Running...\n",
      "Running...\n"
     ]
    }
   ],
   "source": [
    "import time \n",
    "while task.status()['state'] == 'RUNNING':\n",
    "    print('Running...')\n",
    "    # Perhaps task.cancel() at some point.\n",
    "    time.sleep(10)"
   ]
  }
 ],
 "metadata": {
  "kernelspec": {
   "display_name": "blog",
   "language": "python",
   "name": "python3"
  },
  "language_info": {
   "codemirror_mode": {
    "name": "ipython",
    "version": 3
   },
   "file_extension": ".py",
   "mimetype": "text/x-python",
   "name": "python",
   "nbconvert_exporter": "python",
   "pygments_lexer": "ipython3",
   "version": "3.10.13"
  }
 },
 "nbformat": 4,
 "nbformat_minor": 2
}
